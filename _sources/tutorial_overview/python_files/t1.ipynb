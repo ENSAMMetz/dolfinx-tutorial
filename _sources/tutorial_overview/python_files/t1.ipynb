{
 "cells": [
  {
   "cell_type": "markdown",
   "metadata": {},
   "source": [
    "# Fundamentals: Solving the Poisson equation\n",
    "\n",
    "Authors: Hans Petter Langtangen, Anders Logg \\\\\n",
    "Adapted to FEniCS-X by Jørgen S. Dokken \n",
    "\n",
    "The goal of this tutorial is to solve one of the most basic PDEs, the Poisson equations, with a few lines of code in FEniCS-X. We start by introducing the most fundamental FEniCS objects, such as `Mesh`, `Function`, `FunctionSpace`, `TrialFunction` and `TestFunction`, and learn how to write a basic PDE solver. \n",
    "This will include:\n",
    "- How to formulate a mathematical variational problem\n",
    "- How to apply boundary con1ditions\n",
    "- How to solve the discrete linear system\n",
    "- How to visualize the solution\n",
    "\n",
    "The Poisson equation is the following boundary-value problem\n",
    "\n",
    "$ -\\nabla^2 u(\\mathbf{x}) = f(\\mathbf{x}) \\quad \\mathbf{x} \\in \\Omega$\n",
    "\n",
    "$ u(\\mathbf{x}) = u_D(\\mathbf{x})\\quad \\mathbf{x} \\in \\partial\\Omega$\n",
    "\n",
    "Here, $u=u(\\mathbf{x})$ is the unknown function, $f=f(\\mathbf{x})$ is a prescribed function, $\\nabla^2$ the Laplace operator, often written as $\\Delta$, $\\Omega$ the spatial domain, and $\\partial\\Omega$ is the boundary of $\\Omega$. The Poisson problem, including both the PDE $-\\nabla^2 u = f$ and the boundary condition $u=u_D$ on $\\partial\\Omega$, is an example of a _boundary-value problem_, which must be precisely state before it makes sense to start solving it numerically with FEniCS-X. \n",
    "\n",
    "In the two dimensional space with coordinates $x$ and $y$, we can expand the Poisson equation as\n",
    "\n",
    "$ -\\frac{\\partial^2 u}{\\partial x^2} -\n",
    "\\frac{\\partial^2 u}{\\partial y^2} = f(x,y)$\n",
    "\n",
    "The unknown $u$ is now a function of two variables, $u=u(x,y)$, defined over the two-dimensional domain $\\Omega$. \n",
    "\n",
    "The Poisson equation arises in numerous physical contexts, including\n",
    "heat conduction, electrostatics, diffusion of substances, twisting of\n",
    "elastic rods, inviscid fluid flow, and water waves. Moreover, the\n",
    "equation appears in numerical splitting strategies for more complicated\n",
    "systems of PDEs, in particular the Navier--Stokes equations.\n",
    "\n",
    "Solving a boundary value problem in FEniCS consists of the following steps:\n",
    "\n",
    "1. Identify the computational domain $\\Omega$, the PDE, and its corresponding boundary conditions and source terms $f$.\n",
    "2. Reformulate the PDE as a finite element variational problem.\n",
    "3. Write a Python program defining the computational domain, the boundary conditions, the variational problem and the source terms, using FEniCS.\n",
    "4. Run the Python program to solve the boundary-value problem. Optionally, you can extend the program to derive quantities such as fluxes and averages,\n",
    "and visualize the results.\n",
    "\n",
    "As we have already covered step 1., we shall now cover step 2-4.\n",
    "\n",
    "## Finite element variational formulation\n",
    "\n",
    "FEniCS is based on the finite element method, which is a general and\n",
    "efficient mathematical machinery for the numerical solution of\n",
    "PDEs. The starting point for the finite element methods is a PDE\n",
    "expressed in \\emph{variational form}. For readers not familiar with variational problems, it is suggested to reading a proper book on the finite element method in addition, as this tutorial is meant as a brief introduction to the subject. See the [original tutorial]([The FEniCS tutorial](https://www.springer.com/gp/book/9783319524610)) (Chapter 1.6.2).\n",
    "\n",
    "The basic recipe for turning a PDE into a variational problem is:\n",
    "- Multiply the PDE by a function $v$\n",
    "- Integrate the resulting equation over the domain $\\Omega$\n",
    "- Perform integration by parts of terms with second order derivatives. \n",
    "\n",
    "The function $v$ which multiplies the PDE is called a _test function_. The unknown function $u$ that is to be approximated is referred to as a _trial function_. \n",
    "The terms trial and test functions are used in FEniCS-X too. The test and trial functions belong to certain _function spaces_ that specify the properties of the functions.\n",
    "\n",
    "In the present case, we multiply the equation by a test function $v$ and  integrate over $\\Omega$:\n",
    "\n",
    "$\\int_\\Omega -\\nabla^2 u v \\mathrm{d} x = \\int_\\Omega f v \\mathrm{d} x$\n",
    "\n",
    "Here $\\mathrm{d} x$ denotes the differential element for integration over the domain $\\Omega$. We will later let $\\mathrm{d} s$ denote the differential element for integration over the boundary of $\\Omega$. \n",
    "\n",
    "A rule of thumb is that when we derive variational formulations is that one tries to keep the order of derivatives of $u$ and $v$ as small as possible. \n",
    "Here, we have a second-order differential of $u$, which can be transformed to a first derivative by employing the technique of \n",
    "[integration by parts](https://en.wikipedia.org/wiki/Integration_by_parts).\n",
    "The formula reads \n",
    "\n",
    "$ -\\int_\\Omega (\\nabla^2 u)v \\mathrm{d}x\n",
    "= \\int_\\Omega\\nabla u\\cdot\\nabla v \\mathrm{d}x - \\int_{\\partial\\Omega}\\frac{\\partial u}{\\partial n}v \\mathrm{d}s ,$\n",
    "\n",
    "where $\\frac{\\partial u}{\\partial n}=\\nabla u \\cdot n$ is the derivative of $u$ in the outward normal direction $n$ on the boundary.\n",
    "\n",
    "Another feature of variational formulations is that the test function $v$ is required to vanish on the parts of the boundary where the solution $u$ is known. See for instance [Langtangen, Mardal 2019](t1.md/#Langtangen_Mardal_FEM_2019).\n",
    "\n",
    "In the present problem, this means that $v$ is $0$ on the whole boundary $\\partial\\Omega$. In the present problem, it means that the second term in the integration by parts formula is zero, and we have that \n",
    "\n",
    "$\\int_\\Omega \\nabla u \\cdot \\nabla v \\mathrm{d} x = \\int_\\Omega f v\\mathrm{d} x$\n",
    "\n",
    "If we require that this equation holds for all test functions $v$ in some suitable space $\\hat{V}$, the so-called _test space_, we obtain a well-defined mathematical problem that uniquely determines the solution $u$ which lies in some function space $V$. Note that $V$ does not have to be the same space as \n",
    "$\\hat{V}$. We call the space $V$ the _trial space_. We refer to the equation above as the _weak form_/_variational form_ of the original boundary value problem. We now properly state our variational problem:\n",
    "Find $u\\in V$ such that \n",
    "\n",
    "$\\int_\\Omega \\nabla u \\cdot \\nabla v \\mathrm{d} x = \\int_\\Omega f v\\mathrm{d} x\\qquad \\forall v \\in \\hat{V}.$\n",
    "\n",
    "For the present problem, the test and trial spaces $V$ and $\\hat{V}$ is defined  as\n",
    "\n",
    "$ V=\\{v\\in H^1(\\Omega) \\vert v=u_D \\quad \\text{on } \\partial \\Omega \\},$\n",
    "\n",
    "$ \\hat{V}=\\{v\\in H^1(\\Omega) \\vert v=0 \\quad \\text{on } \\partial \\Omega \\}.$\n",
    "\n",
    "In short, $H^1(\\Omega)$ is the Sobolev space containing functions $v$ such that $v^2$ and $\\vert \\nabla v \\vert ^2$ have finite integrals over $\\Omega$. The solution of the underlying\n",
    "PDE must line in a function space where the derivatives are \n",
    "also continuous, but the Sobolev space $H^1(\\Omega)$ allows functions with discontinuous derivatives.\n",
    "This weaker continuity requirement in our weak formulation (caused by the integration by parts) is of great importance when it comes to constructing the finite element function space. In particular, it allows the use of piecewise polynomial function spaces. This means that the function spaces are constructed \n",
    "by stitching together polynomial functions on simple domains \n",
    "such as intervals, triangles, quadrilaterals, tetrahedrons and\n",
    "hexahedrons. \n",
    "\n",
    "The variational problem is a _continuous problem_: it defines the solution $u$ in the infinite-dimensional function space $V$.\n",
    "The finite element method for the  Poisson equation finds an approximate solution of the variational problem by replacing the infinite-dimensional function spaces $V$ and $\\hat V$ by _discrete_ (finite dimensional) trial and test spaces $V_h\\subset V$ and $\\hat{V}_h \\subset \\hat{V}$. The discrete\n",
    "variational problem reads: Find $u_h\\in V_h$ such that \n",
    "\n",
    "$\\int_\\Omega \\nabla u_h \\cdot \\nabla v \\mathrm{d} x = \\int_\\Omega fv \\mathrm{d} x \\quad \\forall v \\in \\hat{V}_h.$\n",
    "\n",
    "This variational problem, together with suitable definitions of $V_h$ and $\\hat{V}_h$ uniquely define our approximate numerical solution of the Poisson equation. \n",
    "Note that the boundary condition is encoded as part of the test and trial spaces. This might seem complicated at first glance, \n",
    "but means that the finite element variational problem and the continuous variational problem looks the same. \n",
    "\n",
    "## Abstract finite element variational formulation\n",
    "\n",
    "We will introduce the following notations for variational problems:\n",
    "Find $u\\in V$ such that \n",
    "\n",
    "$ a(u,v)=L(v)\\qquad \\forall v \\in \\hat{V}.$\n",
    "\n",
    "For the Poisson equation, we have:\n",
    "\n",
    "$ a(u,v)= \\int_{\\Omega} \\nabla u \\cdot \\nabla v \\mathrm{d} x,$\n",
    "\n",
    "$ L(v)= \\int_{\\Omega} fv \\mathrm{d} x.$\n",
    "\n",
    "From literature $a(u,v)$ is known as the _bilinear form_ and $L(V)$ as a _linear form_. \n",
    "For every linear problem, we will identify all terms with the unknown $u$ and collect them in $a(u,v)$, and collect all terms with only  known functions in $L(v)$.\n",
    "\n",
    "To solve a linear PDE in FEniCS-X, such as the Poisson equation, a user thus needs to perform two steps:\n",
    "\n",
    "1. Choose the finite element spaces $V$ and $\\hat{V}$ by specifying the domain (the mesh) and the type of function space (polynomial degree and type).\n",
    "2. Express the PDE as a (discrete) variational problem: Find $u\\in V$ such that $a(u,v)=L(v)$ for all $v \\in \\hat{V}$.\n",
    "\n",
    "## Choosing a test problem\n",
    "The Poisson problem has so far featured general domain $\\Omega$ and general functions $u_D$ for the boundary conditions and $f$ for the right hand side.\n",
    "Therefore, we need to make specific choices of $\\Omega, u_D$ and $f$. A wise choice is to construct a problem  with a known analytical solution, so that we can check that the computed solution is correct. The primary candidates are lower-order polynomials. The continuous Galerkin finite element spaces of degree $r$ will exactly reproduce polynomials of degree $r$. \n",
    "<!-- Particularly, piecewise linear continuous Galerkin finite elements are able to exactly reproduce a quadratic polynomial on \n",
    "a uniformly partitioned mesh. -->\n",
    " We use this fact to construct a quadratic function in $2D$. In particular we choose\n",
    "$ u_e(x,y)=1+x^2+2y^2.$\n",
    "\n",
    "Inserting $u_e$ in the original boundary problem, we find that  \n",
    "$f(x,y)= -6,\\qquad u_d(x,y)=u_e(x,y)=1+x^2+2y^2,$\n",
    "regardless of the shape of the domain as long as we prescribe \n",
    "$u_e$ on the boundary.\n",
    "\n",
    "For simplicity, we choose the domain to be a unit square\n",
    "\n",
    "$\\Omega=[0,1]\\times [0,1] $\n",
    "\n",
    "This simple but very powerful method for constructing test problems is called _the method of manufactured solutions_. \n",
    "First pick a simple expression for the exact solution, plug into\n",
    "the equation to obtain the right-hand side (source term $f$). Then solve the equation with this right hand side, and using the exact solution as boundary condition. Finally, we create a program that tries to reproduce the exact solution.\n",
    "\n",
    "Note that in many cases, it can be hard to determine if the program works if it produces an error of size $10^{-5}$ on a\n",
    "$20 \\times 20$ grid. However, since we are using Sobolev spaces,\n",
    "we usually known about the numerical errors _asymptotic properties_. For instance that it is proportional to $h^2$ if $h$ is the size of a cell in the mesh. We can then compare the error on meshes with different $h$-values to see if the asymptotic behavior is correct. This technique will be explained in detail in a later chapter *FIXME: add correct reference*.\n",
    "\n",
    "However, in cases where we have a solution we know that should have no approximation error, we know that the solution should\n",
    "be produces to machine precision by the program.\n",
    "\n",
    "The first eight lines of the program is importing the different modules required for solving the problem."
   ]
  },
  {
   "cell_type": "code",
   "execution_count": 1,
   "metadata": {},
   "outputs": [],
   "source": [
    "import dolfinx\n",
    "import dolfinx.cpp\n",
    "import dolfinx.mesh\n",
    "import dolfinx.plotting\n",
    "import matplotlib.pyplot\n",
    "import numpy\n",
    "import ufl\n",
    "from mpi4py import MPI\n",
    "from petsc4py import PETSc"
   ]
  },
  {
   "cell_type": "markdown",
   "metadata": {},
   "source": [
    "Not as opposed to a traditional FEniCS code, FEniCS-X is more modular. Instead of wrapping [MPI](https://mpi4py.readthedocs.io/en/stable/) and [PETSc](https://pypi.org/project/petsc4py/) modules inside dolfin-X, we would like to directly use the modules, as they are  well documented and makes dolfin-X easier\n",
    "to understand.\n",
    "\n",
    "## Generating  simple meshes\n",
    "The next step is to define the discrete domain, _the mesh_"
   ]
  },
  {
   "cell_type": "code",
   "execution_count": 2,
   "metadata": {},
   "outputs": [],
   "source": [
    "mesh = dolfinx.UnitSquareMesh(MPI.COMM_WORLD, 8, 8, dolfinx.cpp.mesh.CellType.triangle)"
   ]
  },
  {
   "cell_type": "markdown",
   "metadata": {},
   "source": [
    "which defines a uniform finite element mesh over the unit square $\\[0,1]\\times\\[0, 1]$. The mesh consists of _cells_, which in 2D can be either triangles of quadrilaterals. Note that in addition to give how many elements we would like to have in each direction. We start by dividing the domain into $8\\times 8$ quadrilaterals, which are subdivided into two triangles if\n",
    "we will use triangular cells.\n",
    "Note that we also supply the _MPI-communicator_. \n",
    "This is to specify how we would like the program to behave in parallel. If we supply `MPI.COMM_WORLD` we create a single mesh,\n",
    "which data is distributed over the number of processors we \n",
    "would like to use. We can for instance run the program in \n",
    "parallel on two processors by using `mpirun`, as:\n",
    "``` bash\n",
    " mpirun -n 2 python3 t1.py\n",
    "```\n",
    "However, if we would like to create a separate mesh on each processor, we can use `MPI.COMM_SELF`. This is for instance \n",
    "useful if we run a small problem, and would like to run it with\n",
    "multiple parameters.\n",
    "\n",
    "## Defining the finite element function space\n",
    " Once the mesh has been created, we can create the finite element function space $V$:"
   ]
  },
  {
   "cell_type": "code",
   "execution_count": 3,
   "metadata": {},
   "outputs": [],
   "source": [
    "V = dolfinx.FunctionSpace(mesh, (\"CG\", 1))"
   ]
  },
  {
   "cell_type": "markdown",
   "metadata": {},
   "source": [
    "The second argument is the tuple containing the type of finite element, and the element degree. The type of element here is \"CG\", which implies the standard Lagrange family of elements. \n",
    "Dolfin-X supports a large variety on elements on simplices \n",
    "(triangles and tetrahedrons) and non-simplices (quadrilaterals\n",
    "and hexahedrons). For an overview, see:\n",
    "*FIXME: Add link to all the elements we support*\n",
    "\n",
    "The element degree in the code is 1. This means that we are choosing the standard $P_1$ linear Lagrange element, which has degrees of freedom at the vertices. The computed solution will be continuous across elements and linearly varying in $x$ and $y$ inside each element. Higher degree polynomial approximations is obtained by increasing the degree argument. \n",
    "\n",
    "## Defining the boundary conditions\n",
    "\n",
    "The next step is to specify the boundary condition $u=u_D$ on $\\partial\\Omega_D$, which is done by"
   ]
  },
  {
   "cell_type": "code",
   "execution_count": 4,
   "metadata": {},
   "outputs": [],
   "source": [
    "uD = dolfinx.Function(V)\n",
    "uD.interpolate(lambda x: 1 + x[0]**2 + 2 * x[1]**2)\n",
    "uD.vector.ghostUpdate(addv=PETSc.InsertMode.INSERT, mode=PETSc.ScatterMode.FORWARD)\n",
    "fdim = mesh.topology.dim - 1\n",
    "boundary_facets = dolfinx.mesh.locate_entities_boundary(\n",
    "    mesh, fdim, lambda x: numpy.full(x.shape[1], True, dtype=numpy.bool))\n",
    "bc = dolfinx.DirichletBC(uD, dolfinx.fem.locate_dofs_topological(V, fdim, boundary_facets))"
   ]
  },
  {
   "cell_type": "markdown",
   "metadata": {},
   "source": [
    "As we observe here, this is done  over several steps. The first step is to define the function that will contain the boundary information, `uD`. The next step is to interpolate the spatially\n",
    "varying function into the function space. We use the [lambda-function](https://docs.python.org/3/tutorial/controlflow.html#lambda-expressions) in Python to compactly define the \n",
    "spatially varying function. As we in our example distribute \n",
    "the the mesh the number of processors used, we need to \n",
    "update data on boundaries between processors. We do \n",
    "this by updating the underlying PETSc function.\n",
    "We now have the boundary data (and in this case the solution of \n",
    "the finite element problem) represented in the discrete function space. Next we would like to apply the boundary values to all degrees of freedom that is on the boundary of the discrete domain. We start by identifying the facets (line-segments)\n",
    "representing the outer boundary, using `locate_entities_boundary`. As one in most cases, as shown in later tutorials, only want to mark subsets of the outer boundary, we need to supply a function using a geometrical criteria for which facets should be marked. In this case, as we want to mark the whole boundary, we create a lambda-function that returns `True` for all facets on the boundary. \n",
    "Now that we have located the boundary facets, we locate the\n",
    "dofs contained on these facets, using `locate_dofs_topological` and create the Dirichlet boundary condition.\n",
    "\n",
    "\n",
    "## Defining the trial and test function\n",
    "\n",
    "In mathematics, we distinguish between trial and test spaces $V$ and $\\hat{V}$. The only difference in the present problem is the boundary conditions. In FEniCS-X, we do not specify boundary conditions as part of the function space, so it is sufficient to use a common space for the trial and test function:"
   ]
  },
  {
   "cell_type": "code",
   "execution_count": 5,
   "metadata": {},
   "outputs": [],
   "source": [
    "u = ufl.TrialFunction(V)\n",
    "v = ufl.TestFunction(V)"
   ]
  },
  {
   "cell_type": "markdown",
   "metadata": {},
   "source": [
    "## Defining the source term\n",
    "As the source term is constant over the domain, we can efficiently represent is as constant:"
   ]
  },
  {
   "cell_type": "code",
   "execution_count": 6,
   "metadata": {},
   "outputs": [],
   "source": [
    "f = dolfinx.Constant(mesh, -6)"
   ]
  },
  {
   "cell_type": "markdown",
   "metadata": {},
   "source": [
    "This will speed of compilation of high performance \n",
    "C code for creating the linear system, as opposed to\n",
    "`f = -6`.\n",
    "## Defining the variational problem\n",
    "We now have all the ingredients to define the variational problem"
   ]
  },
  {
   "cell_type": "code",
   "execution_count": 7,
   "metadata": {},
   "outputs": [],
   "source": [
    "a = ufl.dot(ufl.grad(u), ufl.grad(v)) * ufl.dx\n",
    "L = f * v * ufl.dx"
   ]
  },
  {
   "cell_type": "markdown",
   "metadata": {},
   "source": [
    "Note that there is a very close correspondence between the Python syntax and the mathematical syntax\n",
    "$\\nabla u \\cdot \\nabla v \\mathrm{d} x$ and $fv\\mathrm{d} x$. \n",
    "This is the key strength of FEniCS-X: the formulas in the variational formulation translate directly to very similar Python code, a feature that makes it easy to specify and solve complicated PDE problems. The language used to express weak forms in [UFL](t1.md/#ufl) (Unified Form Language).\n",
    "\n",
    "## Expressing inner products\n",
    "The inner product $\\int_\\Omega \\nabla u \\cdot \\nabla v \\mathrm{d} x$ can be expressed in various ways in UFL. We have used the notation `ufl.dot(ufl.grad(u), ufl.grad(v))*uf.dx`. The dot product in UFL computes the sum (contraction) over the last index of the first factor and first index of the second factor. In this case, both factors are tensors of rank one (vectors) and so the sum is just over the single index of both $\\nabla u$ and $\\nabla v$. To compute an inner product of matrices (with two indices), one must instead of `ufl.dot` use the function `ufl.inner`. For vectors, `ufl.dot` and `ufl.inner` are equivalent.\n",
    "\n",
    "## Forming and solving the linear system\n",
    "\n",
    "Having defined the finite element variational problem and boundary condition, we can use dolfin-X to compute the solution:"
   ]
  },
  {
   "cell_type": "code",
   "execution_count": 8,
   "metadata": {},
   "outputs": [],
   "source": [
    "uh = dolfinx.Function(V)\n",
    "dolfinx.solve(a == L, uh, bc, petsc_options={\"ksp_type\": \"preonly\", \"pc_type\": \"lu\"})\n",
    "uh.vector.ghostUpdate(addv=PETSc.InsertMode.INSERT, mode=PETSc.ScatterMode.FORWARD)"
   ]
  },
  {
   "cell_type": "markdown",
   "metadata": {},
   "source": [
    "Here we have defined our approximate function `uh`, which will store the solution. The `solve`-command takes in the variational equality, the discrete function, the boundary condition and options to the backend linear algebra solver PETSc. In this case, we would like to solve the problem with a direct solver. See the [PETSc-documentation](https://www.mcs.anl.gov/petsc/petsc-current/docs/manualpages/PC/PCLU.html) of the method for more information.\n",
    "\n",
    "Then, as after interpolation, we update shared indices not owned by the processor.\n",
    "\n",
    "## Plotting the solution using the built-in plotting\n",
    "Once the solution has been computed, we visualize it with the plot command"
   ]
  },
  {
   "cell_type": "code",
   "execution_count": 9,
   "metadata": {},
   "outputs": [
    {
     "data": {
      "image/png": "[encoded data removed]",
      "text/plain": [
       "<Figure size 432x288 with 1 Axes>"
      ]
     },
     "metadata": {
      "filenames": {
       "image/png": "/home/shared/_build/jupyter_execute/tutorial_overview/t1_17_0.png"
      },
      "needs_background": "light"
     },
     "output_type": "display_data"
    }
   ],
   "source": [
    "# Plot solution\n",
    "dolfinx.plotting.plot(uh)\n",
    "dolfinx.plotting.plot(mesh, color=\"k\")\n",
    "matplotlib.pyplot.savefig(\"uh.png\")"
   ]
  },
  {
   "cell_type": "markdown",
   "metadata": {},
   "source": [
    "We start by plotting the solution of the function, and overlays it with the mesh. Finally, we save the plot with matplotlib. \n",
    "One can also visualize this plot in an non-interactive mode, using `matplotlib.pyplot.show()`.\n",
    "\n",
    "For more advanced post-processing, it is suggested to save the solution to file using either `dolfinx.io.VTKFile` or `dolfinx.io.XDMFFile` and using [Paraview](https://www.paraview.org/). This ifs especially suggested for 3D visualization."
   ]
  },
  {
   "cell_type": "code",
   "execution_count": 10,
   "metadata": {},
   "outputs": [],
   "source": [
    "import dolfinx.io\n",
    "outfile = dolfinx.io.VTKFile(\"output.pvd\")\n",
    "outfile.write(uh)\n",
    "xdmffile = dolfinx.io.XDMFFile(MPI.COMM_WORLD, \"output.xdmf\", \"w\")\n",
    "xdmffile.write_mesh(mesh)\n",
    "xdmffile.write_function(uh)\n",
    "xdmffile.close()"
   ]
  },
  {
   "cell_type": "markdown",
   "metadata": {},
   "source": [
    "## Computing the error\n",
    "\n",
    "Finally, we compute the error to check the accuracy of the solution. We do this by comparing the finite element solution `u` with the exact solution. We do this by interpolating the exact solution into the the $P_2$-function space."
   ]
  },
  {
   "cell_type": "code",
   "execution_count": 11,
   "metadata": {},
   "outputs": [],
   "source": [
    "# Compute exact solution\n",
    "V2 = dolfinx.FunctionSpace(mesh, (\"CG\", 2))\n",
    "uex = dolfinx.Function(V2)\n",
    "uex.interpolate(lambda x: 1 + x[0]**2 + 2 * x[1]**2)\n",
    "uex.vector.ghostUpdate(addv=PETSc.InsertMode.INSERT, mode=PETSc.ScatterMode.FORWARD)"
   ]
  },
  {
   "cell_type": "markdown",
   "metadata": {},
   "source": [
    "We compute the error in two different ways. First, we compute the $L^2$-norm of the error, defined by $E=\\sqrt{\\int_\\Omega (u_D-u_h)^2\\mathrm{d} x}$. We use UFL to express the $L^2$-error:"
   ]
  },
  {
   "cell_type": "code",
   "execution_count": 12,
   "metadata": {},
   "outputs": [],
   "source": [
    "error_L2 = numpy.sqrt(dolfinx.fem.assemble_scalar(ufl.inner(uh - uex, uh - uex) * ufl.dx))"
   ]
  },
  {
   "cell_type": "markdown",
   "metadata": {},
   "source": [
    "We also compute the maximum error at any degree of freedom.\n",
    "As the finite element function $u$ can be expressed as a linear combination of basis functions $\\phi_j$, spanning the space $V$:\n",
    "\n",
    "$ u = \\sum_{j=1}^N U_j\\phi_j.$\n",
    "By writing `solve(...)`\n",
    "we compute all the coefficients $U_1,\\dots, U_N$. These values are known as the _degrees of freedom_ (dofs). We can access the degrees of freedom by accessing the underlying vector in `uh`.\n",
    "However, as a second order function space has more dofs than a linear function space, we cannot compare these arrays directly.\n",
    "Therefore we compute the values of both `uex` and `uD` at the mesh nodes (for a linear mesh this is the vertices)."
   ]
  },
  {
   "cell_type": "code",
   "execution_count": 13,
   "metadata": {},
   "outputs": [
    {
     "name": "stdout",
     "output_type": "stream",
     "text": [
      "Error_L2 = 8.24e-03\n",
      "Error_max = 2.22e-15\n"
     ]
    }
   ],
   "source": [
    "u_vertex_values = uh.compute_point_values()\n",
    "u_ex_vertex_values = uex.compute_point_values()\n",
    "error_max = numpy.max(numpy.abs(u_vertex_values - u_ex_vertex_values))\n",
    "print(\"Error_L2 = {0:.2e}\".format(error_L2))\n",
    "print(\"Error_max = {0:.2e}\".format(error_max))"
   ]
  },
  {
   "cell_type": "markdown",
   "metadata": {},
   "source": [
    "# References\n",
    "{% include _paper.html id=\"Langtangen_Mardal_FEM_2019\" author = \"Hans Petter Langtangen and Kent-Andre Mardal\" doi = \"10.1007/978-3-030-23788-2\"  journal =\" Springer International Publishing\"  title = \"Introduction to Numerical Methods for Variational Problems\" year = \"2019\" %}\n",
    "{% include _paper.html id=\"ufl\" author=\"Martin S. Alnæs, Anders Logg, Kristian B. Ølgaard, Marie E. Rognes, and Garth N. Wells\" doi=\"10.1145/2566630\" journal=\"ACM Trans. Math. Softw.\"\n",
    "title=\"Unified form language: A domain-specific language for weak formulations of partial differential equations\" year=\"2014\" volume=\"40\" issue=\"2\" %}"
   ]
  }
 ],
 "metadata": {
  "jupytext": {
   "formats": "md:myst",
   "text_representation": {
    "extension": ".md",
    "format_name": "myst"
   }
  },
  "kernelspec": {
   "display_name": "Python 3",
   "language": "python",
   "name": "python3"
  },
  "language_info": {
   "codemirror_mode": {
    "name": "ipython",
    "version": 3
   },
   "file_extension": ".py",
   "mimetype": "text/x-python",
   "name": "python",
   "nbconvert_exporter": "python",
   "pygments_lexer": "ipython3",
   "version": "3.8.5"
  },
  "source_map": [
   11,
   172,
   182,
   188,
   190,
   207,
   209,
   221,
   229,
   246,
   249,
   253,
   255,
   261,
   264,
   275,
   279,
   286,
   291,
   296,
   304,
   309,
   315,
   317,
   319,
   329,
   335
  ]
 },
 "nbformat": 4,
 "nbformat_minor": 4
}