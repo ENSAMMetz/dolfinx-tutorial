{
 "metadata": {
  "language_info": {
   "codemirror_mode": {
    "name": "ipython",
    "version": 3
   },
   "file_extension": ".py",
   "mimetype": "text/x-python",
   "name": "python",
   "nbconvert_exporter": "python",
   "pygments_lexer": "ipython3",
   "version": "3.8.5-final"
  },
  "orig_nbformat": 2,
  "kernelspec": {
   "name": "python3",
   "display_name": "Python 3.8.5 64-bit",
   "metadata": {
    "interpreter": {
     "hash": "31f2aee4e71d21fbe5cf8b01ff0e069b9275f58929596ceb00d14d90e3e16cd6"
    }
   }
  }
 },
 "nbformat": 4,
 "nbformat_minor": 2,
 "cells": [
  {
   "source": [
    "\n",
    "# Deflection of a membrane\n",
    "Authors: Hans Petter Langtangen and Anders Logg.\n",
    "\n",
    "Modified to dolfin-X by Jørgen S. Dokken\n",
    "\n",
    "In the first FEniCS program, we solved a simple problem which we could easily use to verify the implementation. In this section, we will turn our attentition to a physically more relevant problem with solutions of a somewhat more exciting shape.\n",
    "\n",
    "We would like to compute the deflection $D(x,y)$ of a two-dimensional, circular membrane of radius $R$, subject to a load $p$ over the membrane. The appropriate PDE model is \n",
    "\\begin{align}\n",
    "     -T \\nabla^2D&=p \\quad\\text{in }\\quad \\Omega=\\{(x,y)\\vert x^2+y^2\\leq R \\}.\n",
    "\\end{align}\n",
    "Here, $T$ is the tension in the membrane (constant), and  $p$ is the external pressure load. The boundary of the membrane has no deflection. This implies that $D=0$ is the boundary condition. We model a localized load as a Gaussian function:\n",
    "\\begin{align}\n",
    "     p(x,y)&=\\frac{A}{2\\pi\\sigma}e^{-\\frac{1}{2}\\left(\\frac{x-x_0}{\\sigma}\\right)^2-\\frac{1}{2}\\left(\\frac{y-y_0}{\\sigma}\\right)^2}\n",
    "\\end{align}\n",
    "The parameter $A$ is the amplitude of the pressure, $(x_0, y_0)$ the localization of the maximum point of the load, and $\\sigma$ the \"width\" of $p$. We will take the center $(x_0,y_0)$ to be $(0,R_0)$ for some $0<R_0<R$.\n",
    "Then we have \n",
    "\\begin{align}\n",
    "     p(x,y)&=\\frac{A}{2\\pi\\sigma}e^{-\\frac{1}{2}\\left(\\left(\\frac{x}{\\sigma}\\right)^2\n",
    "     +\\left(\\frac{y-R_0}{\\sigma}\\right)^2\\right)}\n",
    "\\end{align}\n"
   ],
   "cell_type": "markdown",
   "metadata": {}
  },
  {
   "source": [
    "## Scaling the  equation\n",
    "\n",
    "There are many physical parameters in this problem, and we can benefit from grouping them by means of scaling. Let us introduce dimensionless coordinates \n",
    "$\\bar{x}=\\frac{x}{R}$, $\\bar{y}=\\frac{y}{R}$, and a dimensionless deflection $w=\\frac{D}{D_e}$, where $D_e$ is a characteristic size of the deflection. Introducing $\\bar{R}_0=\\frac{R_0}{R}$, we obtain\n",
    "\\begin{align}\n",
    "    -\\frac{\\partial^2 w}{\\partial \\bar{x}^2} -\\frac{\\partial^2 w}{\\partial \\bar{y}^2}\n",
    "    &=\\frac{R^2A}{2\\pi\\sigma TD_e}e^{-\\frac{R^2}{2\\sigma^2}\\left(\\bar{x}^2+(\\bar{y}-\\bar{R}_0)^2\\right)}\\\\\n",
    "    &=\\alpha e^{-\\beta^2(\\bar{x}^2+(\\bar{y}-\\bar{R}_0)^2}\n",
    "\\end{align}\n",
    "for $\\bar{x}^2+\\bar{y}^2<1$ where $\\alpha = \\frac{R^2A}{2\\pi\\sigma TD_e}$ and $\\beta=\\frac{R}{\\sqrt{2}\\sigma}$.\n",
    "\n",
    "With an appropriate scaling, $w$ and its derivatives are of size unity, so the left-hand side of the scaled PDE is about unity in size, while the right hand side has $\\alpha$ as its characteristic size. This suggests choosing alpha to be unity, or around unity. In this particular case, we choose $\\alpha=4$. (One can also find  the analytical solution in scaled coordinates and show that the maximum deflection $D(0,0)$ is $D_e$ if we choose $\\alpha=4$ to determine $D_e$.)\n",
    "With $D_e=\\frac{AR^2}{8\\pi\\sigma T}$ and dropping the bars we obtain the scaled problem\n",
    "\\begin{align}\n",
    "    -\\nabla^2 w = 4e^{-\\beta^2(x^2+(y-R_0)^2)}\n",
    "\\end{align}\n",
    "to be solved over the unit disc with $w=0$ on the boundary. Now there are only two parameters to varyl the dimensionelss extent of the pressure, $\\beta$, and the localization of the pressure peak, $R_0\\in[0,1]$. As $\\beta\\to 0$, the solution will approach the special case $1-x^2-y^2$. Given a computed scaed solution $w$, the physical deflection can be computed by\n",
    "\\begin{align}\n",
    "    D=\\frac{AR^2}{8\\pi\\sigma T}w\n",
    "\\end{align}\n"
   ],
   "cell_type": "markdown",
   "metadata": {}
  },
  {
   "cell_type": "code",
   "execution_count": 3,
   "metadata": {},
   "outputs": [],
   "source": [
    "import dolfinx"
   ]
  },
  {
   "cell_type": "code",
   "execution_count": null,
   "metadata": {},
   "outputs": [],
   "source": []
  }
 ]
}