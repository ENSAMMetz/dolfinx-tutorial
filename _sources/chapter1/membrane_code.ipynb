{
 "metadata": {
  "language_info": {
   "codemirror_mode": {
    "name": "ipython",
    "version": 3
   },
   "file_extension": ".py",
   "mimetype": "text/x-python",
   "name": "python",
   "nbconvert_exporter": "python",
   "pygments_lexer": "ipython3",
   "version": "3.8.5-final"
  },
  "orig_nbformat": 2,
  "kernelspec": {
   "name": "python3",
   "display_name": "Python 3.8.5 64-bit",
   "metadata": {
    "interpreter": {
     "hash": "31f2aee4e71d21fbe5cf8b01ff0e069b9275f58929596ceb00d14d90e3e16cd6"
    }
   }
  }
 },
 "nbformat": 4,
 "nbformat_minor": 2,
 "cells": [
  {
   "source": [
    "# Implementation\n",
    "Author: Jørgen S. Dokken\n",
    "## Creating the mesh\n",
    "To create the computational geometry, we use the python-API of [GMSH](http://gmsh.info/). We start by import the gmsh-module, and initalizing it."
   ],
   "cell_type": "markdown",
   "metadata": {}
  },
  {
   "cell_type": "code",
   "execution_count": 1,
   "metadata": {},
   "outputs": [],
   "source": [
    "import gmsh\n",
    "gmsh.initialize()"
   ]
  },
  {
   "source": [
    "The next step is to create the membrane and starting the computations by the GMSH CAD kernel, to generate the relevant underlying data structures. The arguments into `addDisk` is the x, y and z coordinate of the center of the circle, while the to last argument is the x-radius and y-radius."
   ],
   "cell_type": "markdown",
   "metadata": {}
  },
  {
   "cell_type": "code",
   "execution_count": 2,
   "metadata": {},
   "outputs": [],
   "source": [
    "membrane = gmsh.model.occ.addDisk(0, 0, 0, 1, 1)\n",
    "gmsh.model.occ.synchronize()"
   ]
  },
  {
   "source": [
    "The next step is to make the membrane a physical surface, such that it is recognized by gmsh when generating the mesh. As a surface is a two-dimensional entity, we add two as the first argument, and the entity tag of the as the second argument. The last argument is the physical tag. In a later demo, we will get into when this tag matters."
   ],
   "cell_type": "markdown",
   "metadata": {}
  },
  {
   "cell_type": "code",
   "execution_count": 3,
   "metadata": {},
   "outputs": [],
   "source": [
    "gdim = 2\n",
    "status = gmsh.model.addPhysicalGroup(gdim, [membrane], 1)"
   ]
  },
  {
   "source": [
    "Finally, we generate the two-dimensional mesh. We set a uniform mesh size by modifying the GMSH options"
   ],
   "cell_type": "markdown",
   "metadata": {}
  },
  {
   "cell_type": "code",
   "execution_count": 4,
   "metadata": {},
   "outputs": [],
   "source": [
    "gmsh.option.setNumber(\"Mesh.CharacteristicLengthMin\",0.05)\n",
    "gmsh.option.setNumber(\"Mesh.CharacteristicLengthMax\",0.05)\n",
    "gmsh.model.mesh.generate(gdim)"
   ]
  },
  {
   "source": [
    "We will import the GMSH-mesh directly from GMSH, using the approach in Section 2 of [A GMSH tutorial for dolfinx](http://jsdokken.com/converted_files/tutorial_gmsh.html). To make sure this runs in parallel and  serial, we will read in the mesh on one processor, and let dolfin-X distribute the mesh data among the processros."
   ],
   "cell_type": "markdown",
   "metadata": {}
  },
  {
   "cell_type": "code",
   "execution_count": 5,
   "metadata": {},
   "outputs": [],
   "source": [
    "from dolfinx.io import extract_gmsh_geometry,extract_gmsh_topology_and_markers, ufl_mesh_from_gmsh\n",
    "from mpi4py import MPI\n",
    "from warnings import filterwarnings\n",
    "\n",
    "filterwarnings(\"ignore\")\n",
    "if MPI.COMM_WORLD.rank == 0:\n",
    "    # Get mesh geometry\n",
    "    geometry_data = extract_gmsh_geometry(gmsh.model)\n",
    "    # Get mesh topology for each element\n",
    "    topology_data = extract_gmsh_topology_and_markers(gmsh.model)"
   ]
  },
  {
   "source": [
    "The topology data is a dictionary, where the key is the gmsh cell type (an integer). Each key accesses a dictionary with the topology data and corresponding topology markers. As this mesh only contains one cell type (triangles), as we did not mark any facets, we do not need to loop over the keys of this dictionary, only extract the first one."
   ],
   "cell_type": "markdown",
   "metadata": {}
  },
  {
   "cell_type": "code",
   "execution_count": 6,
   "metadata": {},
   "outputs": [],
   "source": [
    "if MPI.COMM_WORLD.rank == 0:\n",
    "    # Extract the cell type and number of nodes per cell and broadcast\n",
    "    # it to the other processors \n",
    "    gmsh_cell_type = list(topology_data.keys())[0]    \n",
    "    properties = gmsh.model.mesh.getElementProperties(gmsh_cell_type)\n",
    "    name, dim, order, num_nodes, local_coords, _ = properties\n",
    "    cells = topology_data[gmsh_cell_type][\"topology\"]\n",
    "    cell_id, num_nodes = MPI.COMM_WORLD.bcast([gmsh_cell_type, num_nodes], root=0)\n",
    "else:        \n",
    "    cell_id, num_nodes = MPI.COMM_WORLD.bcast([None, None], root=0)\n",
    "    cells, geometry_data = numpy.empty([0, num_nodes]), numpy.empty([0, gdim])"
   ]
  },
  {
   "source": [
    "As we have now broadcasted all the information required to distribute the mesh in parallel"
   ],
   "cell_type": "markdown",
   "metadata": {}
  },
  {
   "cell_type": "code",
   "execution_count": 7,
   "metadata": {},
   "outputs": [],
   "source": [
    "from dolfinx.cpp.io import perm_gmsh\n",
    "from dolfinx.cpp.mesh import to_type\n",
    "from dolfinx.mesh import create_mesh\n",
    "\n",
    "# Permute topology data from MSH-ordering to dolfinx-ordering\n",
    "ufl_domain = ufl_mesh_from_gmsh(cell_id, gdim)\n",
    "gmsh_cell_perm = perm_gmsh(to_type(str(ufl_domain.ufl_cell())), num_nodes)\n",
    "cells = cells[:, gmsh_cell_perm]\n",
    "\n",
    "# Create distributed mesh\n",
    "mesh = create_mesh(MPI.COMM_WORLD, cells, geometry_data[:, :gdim], ufl_domain)\n"
   ]
  },
  {
   "source": [
    "We define the function space as in the previous tutorial"
   ],
   "cell_type": "markdown",
   "metadata": {}
  },
  {
   "cell_type": "code",
   "execution_count": 8,
   "metadata": {},
   "outputs": [],
   "source": [
    "import dolfinx\n",
    "from petsc4py import PETSc\n",
    "V = dolfinx.FunctionSpace(mesh, (\"CG\", 1))"
   ]
  },
  {
   "source": [
    "## Defining the load\n",
    "Authors: Hans Petter Langtangen and Anders Logg.\n",
    "\n",
    "Adapted to dolfin-X: Jørgen S. Dokken\n",
    "\n",
    "The right hand side pressure function is represented using \n",
    "Python-classes. The class will have an initializer, where we store the two physical parameters, and an evaluation function which has a physical coordinate `x` as input."
   ],
   "cell_type": "markdown",
   "metadata": {}
  },
  {
   "cell_type": "code",
   "execution_count": 9,
   "metadata": {},
   "outputs": [],
   "source": [
    "import numpy as np\n",
    "class Pressure():\n",
    "    def __init__(self, beta, R0):\n",
    "        self.beta = beta\n",
    "        self.R0 = R0\n",
    "    def __call__(self, x):\n",
    "        return 4*np.exp(-self.beta**2*(x[0]**2+(x[1]-self.R0)**2))\n",
    "pressure = Pressure(8, 0.6)"
   ]
  },
  {
   "source": [
    "To be able to use this class in a variational formulation, we interpolate this function into the appropriate function space. In this case, we will use the same function space as we use for our approximate solution"
   ],
   "cell_type": "markdown",
   "metadata": {}
  },
  {
   "cell_type": "code",
   "execution_count": 10,
   "metadata": {},
   "outputs": [],
   "source": [
    "p = dolfinx.Function(V)\n",
    "p.interpolate(pressure)\n",
    "p.vector.ghostUpdate(addv=PETSc.InsertMode.INSERT, mode=PETSc.ScatterMode.FORWARD)\n"
   ]
  },
  {
   "source": [
    "We can modify the parameters at any time by changing the `pressure`-variables and update the interpolation, as follows"
   ],
   "cell_type": "markdown",
   "metadata": {}
  },
  {
   "cell_type": "code",
   "execution_count": 11,
   "metadata": {},
   "outputs": [],
   "source": [
    "pressure.beta = 12\n",
    "pressure.R0 = 0.3\n",
    "p.interpolate(pressure)\n",
    "p.vector.ghostUpdate(addv=PETSc.InsertMode.INSERT, mode=PETSc.ScatterMode.FORWARD)"
   ]
  },
  {
   "source": [
    "We create the homogenuous boundary condition over the whole boundary which we do as in the first tutorial."
   ],
   "cell_type": "markdown",
   "metadata": {}
  },
  {
   "cell_type": "code",
   "execution_count": 12,
   "metadata": {},
   "outputs": [],
   "source": [
    "uD = dolfinx.Function(V)\n",
    "uD.vector.set(0)\n",
    "fdim = mesh.topology.dim - 1\n",
    "boundary_facets = dolfinx.mesh.locate_entities_boundary(\n",
    "    mesh, fdim, lambda x: np.full(x.shape[1], True, dtype=np.bool))\n",
    "bc = dolfinx.DirichletBC(uD, dolfinx.fem.locate_dofs_topological(V, fdim, boundary_facets))"
   ]
  },
  {
   "source": [
    "## Defining the variational problem\n",
    "The variational problem is the same as in our first Poisson problem, where `f` is replaced by `p`."
   ],
   "cell_type": "markdown",
   "metadata": {}
  },
  {
   "cell_type": "code",
   "execution_count": 13,
   "metadata": {},
   "outputs": [],
   "source": [
    "import ufl\n",
    "u = ufl.TrialFunction(V)\n",
    "v = ufl.TestFunction(V)\n",
    "a = ufl.dot(ufl.grad(u), ufl.grad(v))*ufl.dx\n",
    "L = p*v*ufl.dx\n",
    "uh = dolfinx.Function(V)\n",
    "dolfinx.solve(a==L, uh, bc)"
   ]
  },
  {
   "source": [
    "## Plotting the solution\n",
    "As mentioned in the previous section, we can use Paraview to visualize the solution."
   ],
   "cell_type": "markdown",
   "metadata": {}
  },
  {
   "cell_type": "code",
   "execution_count": 14,
   "metadata": {},
   "outputs": [],
   "source": [
    "import dolfinx.io\n",
    "p.name = \"Load\"\n",
    "uh.name = \"Deflection\"\n",
    "with dolfinx.io.XDMFFile(MPI.COMM_WORLD, \"results_membrane.xdmf\", \"w\") as xdmf:\n",
    "    xdmf.write_mesh(mesh)\n",
    "    xdmf.write_function(p)\n",
    "    xdmf.write_function(uh)"
   ]
  },
  {
   "source": [
    "Note that we gave the functions `p` and `uh` new names, to make them easier to identitify in Paraview. We start by opening Paraview. We start by opening the file by pressing `File->Open`.\n",
    "The next step is to visualize each of the functions. To do this, we choose `Filters->Alphabetic->ExtractBlock`. The next step is to select the first Unstructured Grid and press `Apply` as shown below:\n",
    "\n",
    "![Select Block](select_block.png)\n",
    "\n",
    "We can select the other block to visualize the deflection. There are also options to visualize the deflection in three dimensions using `Filters->Alphabetical->Warp By Scalar`, and change the layout to 3D by pressing the `2D`-button.\n",
    "\n",
    "![Change interactive layout](2Dto3D.png)\n",
    "\n",
    "Finally, press the `Set view direction button`.\n",
    "\n",
    "![Set view direction](axis.png)\n",
    "\n",
    "With these instructions, you can obtain the following figures\n",
    "\n",
    "![Results for membrane](result_membrane.png)"
   ],
   "cell_type": "markdown",
   "metadata": {}
  },
  {
   "cell_type": "code",
   "execution_count": null,
   "metadata": {},
   "outputs": [],
   "source": []
  }
 ]
}