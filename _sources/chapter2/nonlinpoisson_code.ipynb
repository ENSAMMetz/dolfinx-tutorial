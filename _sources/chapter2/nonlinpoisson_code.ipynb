{
 "metadata": {
  "language_info": {
   "codemirror_mode": {
    "name": "ipython",
    "version": 3
   },
   "file_extension": ".py",
   "mimetype": "text/x-python",
   "name": "python",
   "nbconvert_exporter": "python",
   "pygments_lexer": "ipython3",
   "version": "3.8.5-final"
  },
  "orig_nbformat": 2,
  "kernelspec": {
   "name": "python3",
   "display_name": "Python 3",
   "language": "python"
  }
 },
 "nbformat": 4,
 "nbformat_minor": 2,
 "cells": [
  {
   "source": [
    "# Implementation\n",
    "Authors: Anders Logg and Hans Petter Langtangen\n",
    "\n",
    "Adaptation to dolfin-X: Jørgen S. Dokken\n",
    "\n",
    "## Test problem\n",
    "To solve a test problem, we need to choose the right hand side $f$ and the coefficient $q(u)$ and the boundary $u_D$. Previously, we have worked with manufactured solutions that can  be reproduced without approximation errors. This is more difficult in non-linear porblems, and the algebra is more tedious. Howeve, we will utilize UFLs differentiation capabilities to obtain a manufactured solution. \n",
    "\n",
    "For this problem, we will choose $q(u) = 1 + u^2$ and define a two dimensional manufactured solution that is linear in $x$ and $y$:"
   ],
   "cell_type": "markdown",
   "metadata": {}
  },
  {
   "cell_type": "code",
   "execution_count": 1,
   "metadata": {},
   "outputs": [],
   "source": [
    "import dolfinx\n",
    "import ufl\n",
    "from mpi4py import MPI\n",
    "\n",
    "def q(u):\n",
    "    return 1 + u**2\n",
    "\n",
    "mesh = dolfinx.UnitSquareMesh(MPI.COMM_WORLD, 10, 10)\n",
    "x = ufl.SpatialCoordinate(mesh)\n",
    "u_ufl = 1 + x[0] + 2*x[1]\n",
    "f = - ufl.div(q(u_ufl)*ufl.grad(u_ufl))"
   ]
  },
  {
   "source": [
    "Note that since `x` is a 2D vector, the first component (index 0) resemble $x$, while the second component (index 1) resemble $y$. The resulting function `f` can be directly used in variational formulations in dolfin-X.\n",
    "\n",
    "As we now have defined our source term and exact solution, we can create the appropriate function space and boundary conditions.\n",
    "Note that as we have already defined the exact solution, we only have to convert it to a python function that can be evaluated in the interpolation function. We do this by employing the Python `eval` and `lambda`-functions. "
   ],
   "cell_type": "markdown",
   "metadata": {}
  },
  {
   "cell_type": "code",
   "execution_count": 2,
   "metadata": {},
   "outputs": [],
   "source": [
    "from petsc4py import PETSc\n",
    "import numpy\n",
    "import dolfinx.fem\n",
    "V = dolfinx.FunctionSpace(mesh, (\"CG\", 1))\n",
    "u_exact = lambda x: eval(str(u_ufl))\n",
    "u_D = dolfinx.Function(V)\n",
    "u_D.interpolate(u_exact)\n",
    "u_D.vector.ghostUpdate(addv=PETSc.InsertMode.INSERT, mode=PETSc.ScatterMode.FORWARD)\n",
    "fdim = mesh.topology.dim - 1\n",
    "boundary_facets = dolfinx.mesh.locate_entities_boundary(\n",
    "    mesh, fdim, lambda x: numpy.full(x.shape[1], True, dtype=numpy.bool))\n",
    "bc = dolfinx.DirichletBC(u_D, dolfinx.fem.locate_dofs_topological(V, fdim, boundary_facets))"
   ]
  },
  {
   "source": [
    "We are now ready to define the variational formulation. Note that as the problem is non-linear, we have replace the `TrialFunction` with a `Function`."
   ],
   "cell_type": "markdown",
   "metadata": {}
  },
  {
   "cell_type": "code",
   "execution_count": 3,
   "metadata": {},
   "outputs": [],
   "source": [
    "uh = dolfinx.Function(V)\n",
    "v = ufl.TestFunction(V)\n",
    "F = q(uh)*ufl.dot(ufl.grad(uh), ufl.grad(v))*ufl.dx - f*v*ufl.dx"
   ]
  },
  {
   "source": [
    "The next step is to solve the non-linear problem. To do so, we use [Newtons method](https://en.wikipedia.org/wiki/Newton%27s_method). We start by creating a class containing the core functions that are required. Note that we keep a cache of the residual vector `_F` and the matrix `_J`. This is to reduce duplication of objects if the solver would be used multiple times, for instance for a time-dependent problem."
   ],
   "cell_type": "markdown",
   "metadata": {}
  },
  {
   "cell_type": "code",
   "execution_count": 4,
   "metadata": {},
   "outputs": [],
   "source": [
    "import dolfinx.cpp\n",
    "class NonlinearPDEProblem(dolfinx.cpp.nls.NonlinearProblem):\n",
    "    \"\"\"Nonlinear problem class for a PDE problem.\"\"\"\n",
    "\n",
    "    def __init__(self, F, u, bcs):\n",
    "        super().__init__()\n",
    "        V = u.function_space\n",
    "        du = ufl.TrialFunction(V)\n",
    "        self.L = F\n",
    "        self.a = ufl.derivative(F, u, du)\n",
    "        self.bcs = bcs\n",
    "        self._F, self._J = None, None\n",
    "\n",
    "    def form(self, x):\n",
    "        x.ghostUpdate(addv=PETSc.InsertMode.INSERT, mode=PETSc.ScatterMode.FORWARD)\n",
    "\n",
    "    def F(self, x):\n",
    "        \"\"\"Assemble residual vector.\"\"\"\n",
    "        if self._F is None:\n",
    "            self._F = dolfinx.fem.assemble_vector(self.L)\n",
    "        else:\n",
    "            with self._F.localForm() as f_local:\n",
    "                f_local.set(0.0)\n",
    "            self._F = dolfinx.fem.assemble_vector(self._F, self.L)\n",
    "        dolfinx.fem.apply_lifting(self._F, [self.a], [self.bcs], [x], -1.0)\n",
    "        self._F.ghostUpdate(addv=PETSc.InsertMode.ADD, mode=PETSc.ScatterMode.REVERSE)\n",
    "        dolfinx.fem.set_bc(self._F, self.bcs, x, -1.0)\n",
    "\n",
    "        return self._F\n",
    "\n",
    "    def J(self, x):\n",
    "        \"\"\"Assemble Jacobian matrix.\"\"\"\n",
    "        if self._J is None:\n",
    "            self._J = dolfinx.fem.assemble_matrix(self.a, self.bcs)\n",
    "        else:\n",
    "            self._J.zeroEntries()\n",
    "            self._J = dolfinx.fem.assemble_matrix(self._J, self.a, self.bcs)\n",
    "        self._J.assemble()\n",
    "        return self._J\n"
   ]
  },
  {
   "source": [
    "As we have now defined the the solution strategy, we can use the built-in Newton-solver in dolfin-X to solve the variational problem. We can set the convergence criterions for the solver by changing the absolute tolerance (`atol`), relative tolerance (`rtol`) or the convergence criterion (`residual` or `incremental`)."
   ],
   "cell_type": "markdown",
   "metadata": {}
  },
  {
   "cell_type": "code",
   "execution_count": 5,
   "metadata": {},
   "outputs": [
    {
     "output_type": "stream",
     "name": "stdout",
     "text": [
      "Number of interations: 8\n"
     ]
    }
   ],
   "source": [
    "# Create nonlinear problem\n",
    "problem = NonlinearPDEProblem(F, uh, [bc])\n",
    "\n",
    "# Create Newton solver and solve\n",
    "solver = dolfinx.cpp.nls.NewtonSolver(MPI.COMM_WORLD)\n",
    "solver.atol = 1e-8\n",
    "solver.rtol = 1e-8\n",
    "solver.convergence_criterion = \"residual\"\n",
    "dolfinx.log.set_log_level(dolfinx.log.LogLevel.INFO)\n",
    "n, converged = solver.solve(problem, uh.vector)\n",
    "assert(converged)\n",
    "print(\"Number of interations: {0:d}\".format(n))"
   ]
  },
  {
   "source": [
    "We observe that the solver converges after $8$ iterations.\n",
    "If we think of the problem in terms of finite differences on a uniform mesh, $\\mathcal{P}_1$ elements mimic standard second-order finite differences, which compute the derivative of a linear or quadratic funtion exactly. Here $\\nabla u$ is a constant vector, which is multiplied by $1+u^2$, which is a second order polynomial in $x$ and $y$, which the finite difference operator would compute exactly. We can therefore, even with $\\mathcal{P}_1$ elements, expect the manufactured solution to be reproduced by the numerical method. However, if we had chosen a nonlinearity, such as $1+u^4$, this would not be the case, and we would need to verify convergence rates."
   ],
   "cell_type": "markdown",
   "metadata": {}
  },
  {
   "cell_type": "code",
   "execution_count": 6,
   "metadata": {},
   "outputs": [
    {
     "output_type": "stream",
     "name": "stdout",
     "text": [
      "L2-error: 3.92e-16\nError_max = 8.88e-16\n"
     ]
    }
   ],
   "source": [
    "# Compute L2 error and error at nodes\n",
    "V_ex = dolfinx.FunctionSpace(mesh, (\"CG\", 2))\n",
    "u_ex = dolfinx.Function(V_ex)\n",
    "u_ex.interpolate(u_exact)\n",
    "u_ex.vector.ghostUpdate(addv=PETSc.InsertMode.INSERT, mode=PETSc.ScatterMode.FORWARD)\n",
    "error_L2 = numpy.sqrt(dolfinx.fem.assemble_scalar((uh - u_ex)**2 * ufl.dx))\n",
    "print(\"L2-error: {0:.2e}\".format(error_L2))\n",
    "\n",
    "# Compute values at mesh vertices\n",
    "u_vertex_values = uh.compute_point_values()\n",
    "u_ex_vertex_values = u_ex.compute_point_values()\n",
    "error_max = numpy.max(numpy.abs(u_vertex_values - u_ex_vertex_values))\n",
    "print(\"Error_max = {0:.2e}\".format(error_max))"
   ]
  }
 ]
}