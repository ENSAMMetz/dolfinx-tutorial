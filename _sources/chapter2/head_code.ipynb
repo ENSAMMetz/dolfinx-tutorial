{
 "metadata": {
  "language_info": {
   "codemirror_mode": {
    "name": "ipython",
    "version": 3
   },
   "file_extension": ".py",
   "mimetype": "text/x-python",
   "name": "python",
   "nbconvert_exporter": "python",
   "pygments_lexer": "ipython3",
   "version": "3.8.5-final"
  },
  "orig_nbformat": 2,
  "kernelspec": {
   "name": "python3",
   "display_name": "Python 3.8.5 64-bit",
   "metadata": {
    "interpreter": {
     "hash": "31f2aee4e71d21fbe5cf8b01ff0e069b9275f58929596ceb00d14d90e3e16cd6"
    }
   }
  }
 },
 "nbformat": 4,
 "nbformat_minor": 2,
 "cells": [
  {
   "source": [
    "# Implementation\n",
    "In our program, we need to implement the time-stepping manually, but we can rely on dolfin-X to easily compute $a_0, L_0, a$ and $L$ and solve the linear system for the unknowns.\n",
    "\n",
    "## Test problem 1: A known analytical solution\n",
    "Just as for the Poisson problem from the previous chapter, we construct a test problem which makes it easy to determine if the calculations are correct.\n",
    "\n",
    "Since we know that our first-order time-stepping scheme is exact for linear functions, we create a problem which has linear variation in time. We combine this with a quadratic variation in space. Therefore, we choose the analytical solution to be\n",
    "\\begin{align}\n",
    "u = 1 + x^2+\\alpha y^2 + \\beta t\n",
    "\\end{align}\n",
    "which yields a function whose computed values at the degrees of freedom will be exact, regardless of the mesh size and $\\Delta t$ as long as the mesh is uniformly partitioned.\n",
    "By inserting this into our original PDE, we find that the right hand side $f=\\beta-2-2\\alpha$. The boundary value $u_d(x,y,t)=1+x^2+\\alpha y^2 + \\beta t$ and the initial value $u_0(x,y)=1+x^2+\\alpha y^2$.\n",
    "\n",
    "We start by defining the temporal discretization parameters, along with the parameters for $\\alpha$ and $\\beta$."
   ],
   "cell_type": "markdown",
   "metadata": {}
  },
  {
   "cell_type": "code",
   "execution_count": 1,
   "metadata": {},
   "outputs": [],
   "source": [
    "t = 0 # Start time\n",
    "T = 2 # End time\n",
    "num_steps = 10 # Number of time steps\n",
    "dt = (T-t)/num_steps # Time step size\n",
    "alpha = 3\n",
    "beta = 1.2"
   ]
  },
  {
   "source": [
    "As for the previous problem, we define the mesh and appropriate function spaces."
   ],
   "cell_type": "markdown",
   "metadata": {}
  },
  {
   "cell_type": "code",
   "execution_count": 2,
   "metadata": {},
   "outputs": [],
   "source": [
    "import dolfinx\n",
    "import numpy\n",
    "from dolfinx.cpp.mesh import CellType\n",
    "from mpi4py import MPI\n",
    "from petsc4py import PETSc\n",
    "\n",
    "nx, ny = 8, 8\n",
    "mesh = dolfinx.UnitSquareMesh(MPI.COMM_WORLD, nx, ny, CellType.quadrilateral)\n",
    "V = dolfinx.FunctionSpace(mesh, (\"CG\", 1))"
   ]
  },
  {
   "source": [
    "As in the membrane problem, we create a Python-class to resemble the exact solution"
   ],
   "cell_type": "markdown",
   "metadata": {}
  },
  {
   "cell_type": "code",
   "execution_count": 3,
   "metadata": {},
   "outputs": [],
   "source": [
    "class exact_solution():\n",
    "    def __init__(self, alpha, beta, t):\n",
    "        self.alpha = alpha\n",
    "        self.beta = beta\n",
    "        self.t = t\n",
    "    def __call__(self, x):\n",
    "        return 1 + x[0]**2 + self.alpha * x[1]**2 + self.beta * self.t\n",
    "u_exact = exact_solution(alpha, beta, t)"
   ]
  },
  {
   "source": [
    "As in the previous chapters, we define a Dirichlet boundary condition over the whole boundary"
   ],
   "cell_type": "markdown",
   "metadata": {}
  },
  {
   "cell_type": "code",
   "execution_count": 4,
   "metadata": {},
   "outputs": [],
   "source": [
    "u_D = dolfinx.Function(V)\n",
    "u_D.interpolate(u_exact)\n",
    "u_D.vector.ghostUpdate(addv=PETSc.InsertMode.INSERT, mode=PETSc.ScatterMode.FORWARD)\n",
    "fdim = mesh.topology.dim - 1\n",
    "boundary_facets = dolfinx.mesh.locate_entities_boundary(\n",
    "    mesh, fdim, lambda x: numpy.full(x.shape[1], True, dtype=numpy.bool))\n",
    "bc = dolfinx.DirichletBC(u_D, dolfinx.fem.locate_dofs_topological(V, fdim, boundary_facets))"
   ]
  },
  {
   "source": [
    "As we have set $t=0$ in `u_exact`, we can reuse this variable to obtain $u_n$ for the first time step."
   ],
   "cell_type": "markdown",
   "metadata": {}
  },
  {
   "cell_type": "code",
   "execution_count": 5,
   "metadata": {},
   "outputs": [],
   "source": [
    "u_n = dolfinx.Function(V)\n",
    "u_n.interpolate(u_exact)\n",
    "u_n.vector.ghostUpdate(addv=PETSc.InsertMode.INSERT, mode=PETSc.ScatterMode.FORWARD)"
   ]
  },
  {
   "source": [
    "As $f$ is a constant independent of $t$, we can define it as a constant."
   ],
   "cell_type": "markdown",
   "metadata": {}
  },
  {
   "cell_type": "code",
   "execution_count": 6,
   "metadata": {},
   "outputs": [],
   "source": [
    "f = dolfinx.Constant(mesh, beta - 2 - 2 * alpha)"
   ]
  },
  {
   "source": [
    "We can now create our variational formulation, with the bilinear form `a` and  linear form `L`."
   ],
   "cell_type": "markdown",
   "metadata": {}
  },
  {
   "cell_type": "code",
   "execution_count": 7,
   "metadata": {},
   "outputs": [],
   "source": [
    "import ufl\n",
    "u, v = ufl.TrialFunction(V), ufl.TestFunction(V)\n",
    "F = u*v*ufl.dx + dt*ufl.dot(ufl.grad(u), ufl.grad(v))*ufl.dx - (u_n + dt*f)*v*ufl.dx\n",
    "a = ufl.lhs(F)\n",
    "L = ufl.rhs(F)"
   ]
  },
  {
   "source": [
    "To ensure that we are solving the variational problem efficiently, we will create several structures which can reuse data, such as matrix sparisty patterns. Especially note as the bilinear form `a` is independent of time, we only need to assemble the matrix once."
   ],
   "cell_type": "markdown",
   "metadata": {}
  },
  {
   "cell_type": "code",
   "execution_count": 8,
   "metadata": {},
   "outputs": [],
   "source": [
    "import dolfinx.fem\n",
    "A = dolfinx.fem.assemble_matrix(a, bcs=[bc])\n",
    "A.assemble()\n",
    "b = dolfinx.fem.assemble_vector(L)\n",
    "uh = dolfinx.Function(V)"
   ]
  },
  {
   "source": [
    "We will use [PETSc](https://www.mcs.anl.gov/petsc/) to solve the resulting linear algebra problem. We use the Python-API `petsc4py` to define the solver. We will use a linear solver."
   ],
   "cell_type": "markdown",
   "metadata": {}
  },
  {
   "cell_type": "code",
   "execution_count": 9,
   "metadata": {},
   "outputs": [],
   "source": [
    "solver = PETSc.KSP().create(mesh.mpi_comm())\n",
    "solver.setOperators(A)\n",
    "solver.setType(PETSc.KSP.Type.PREONLY)\n",
    "solver.getPC().setType(PETSc.PC.Type.LU)"
   ]
  },
  {
   "source": [
    "With these structures in place, we crete our time-stepping loop."
   ],
   "cell_type": "markdown",
   "metadata": {}
  },
  {
   "cell_type": "code",
   "execution_count": 10,
   "metadata": {},
   "outputs": [
    {
     "output_type": "error",
     "ename": "Error",
     "evalue": "error code 73\n[0] KSPSolve() line 889 in /usr/local/petsc/src/ksp/ksp/interface/itfunc.c\n[0] KSPSolve_Private() line 658 in /usr/local/petsc/src/ksp/ksp/interface/itfunc.c\n[0] KSPSetUp() line 406 in /usr/local/petsc/src/ksp/ksp/interface/itfunc.c\n[0] PCSetUp() line 1009 in /usr/local/petsc/src/ksp/pc/interface/precon.c\n[0] PCSetUp_LU() line 87 in /usr/local/petsc/src/ksp/pc/impls/factor/lu/lu.c\n[0] MatGetOrdering() line 178 in /usr/local/petsc/src/mat/order/sorder.c\n[0] Object is in wrong state\n[0] Not for unassembled matrix",
     "traceback": [
      "\u001b[0;31m---------------------------------------------------------------------------\u001b[0m",
      "\u001b[0;31mError\u001b[0m                                     Traceback (most recent call last)",
      "\u001b[0;32m<ipython-input-10-79f2236245b3>\u001b[0m in \u001b[0;36m<module>\u001b[0;34m\u001b[0m\n\u001b[1;32m     13\u001b[0m \u001b[0;34m\u001b[0m\u001b[0m\n\u001b[1;32m     14\u001b[0m     \u001b[0;31m# Solve linear problem\u001b[0m\u001b[0;34m\u001b[0m\u001b[0;34m\u001b[0m\u001b[0;34m\u001b[0m\u001b[0m\n\u001b[0;32m---> 15\u001b[0;31m     \u001b[0msolver\u001b[0m\u001b[0;34m.\u001b[0m\u001b[0msolve\u001b[0m\u001b[0;34m(\u001b[0m\u001b[0mb\u001b[0m\u001b[0;34m,\u001b[0m \u001b[0muh\u001b[0m\u001b[0;34m.\u001b[0m\u001b[0mvector\u001b[0m\u001b[0;34m)\u001b[0m\u001b[0;34m\u001b[0m\u001b[0;34m\u001b[0m\u001b[0m\n\u001b[0m\u001b[1;32m     16\u001b[0m     \u001b[0;31m# Update solution\u001b[0m\u001b[0;34m\u001b[0m\u001b[0;34m\u001b[0m\u001b[0;34m\u001b[0m\u001b[0m\n\u001b[1;32m     17\u001b[0m     \u001b[0muh\u001b[0m\u001b[0;34m.\u001b[0m\u001b[0mvector\u001b[0m\u001b[0;34m.\u001b[0m\u001b[0mcopy\u001b[0m\u001b[0;34m(\u001b[0m\u001b[0mresult\u001b[0m\u001b[0;34m=\u001b[0m\u001b[0mu_n\u001b[0m\u001b[0;34m.\u001b[0m\u001b[0mvector\u001b[0m\u001b[0;34m)\u001b[0m\u001b[0;34m\u001b[0m\u001b[0;34m\u001b[0m\u001b[0m\n",
      "\u001b[0;32mPETSc/KSP.pyx\u001b[0m in \u001b[0;36mpetsc4py.PETSc.KSP.solve\u001b[0;34m()\u001b[0m\n",
      "\u001b[0;31mError\u001b[0m: error code 73\n[0] KSPSolve() line 889 in /usr/local/petsc/src/ksp/ksp/interface/itfunc.c\n[0] KSPSolve_Private() line 658 in /usr/local/petsc/src/ksp/ksp/interface/itfunc.c\n[0] KSPSetUp() line 406 in /usr/local/petsc/src/ksp/ksp/interface/itfunc.c\n[0] PCSetUp() line 1009 in /usr/local/petsc/src/ksp/pc/interface/precon.c\n[0] PCSetUp_LU() line 87 in /usr/local/petsc/src/ksp/pc/impls/factor/lu/lu.c\n[0] MatGetOrdering() line 178 in /usr/local/petsc/src/mat/order/sorder.c\n[0] Object is in wrong state\n[0] Not for unassembled matrix"
     ]
    }
   ],
   "source": [
    "for n in range(num_steps):\n",
    "    t+=dt\n",
    "    # Update Diriclet boundary condition \n",
    "    u_exact.t = t\n",
    "    u_D.interpolate(u_exact)\n",
    "    u_D.vector.ghostUpdate(addv=PETSc.InsertMode.INSERT, mode=PETSc.ScatterMode.FORWARD)\n",
    "    # Update the right hand side reusing the initial vector\n",
    "    dolfinx.fem.assemble_vector(b, L)\n",
    "    # Apply Dirichlet boundary condition to the vector\n",
    "    dolfinx.fem.apply_lifting(b, [a], [[bc]])\n",
    "    b.ghostUpdate(addv=PETSc.InsertMode.ADD_VALUES, mode=PETSc.ScatterMode.REVERSE)\n",
    "    dolfinx.fem.set_bc(b, [bc])\n",
    "\n",
    "    # Solve linear problem\n",
    "    solver.solve(b, uh.vector)\n",
    "    # Update solution\n",
    "    uh.vector.copy(result=u_n.vector)\n"
   ]
  },
  {
   "cell_type": "code",
   "execution_count": null,
   "metadata": {},
   "outputs": [],
   "source": []
  }
 ]
}